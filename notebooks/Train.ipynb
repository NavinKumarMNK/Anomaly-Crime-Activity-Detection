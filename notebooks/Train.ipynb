{
 "cells": [
  {
   "cell_type": "code",
   "execution_count": 1,
   "metadata": {},
   "outputs": [
    {
     "name": "stdout",
     "output_type": "stream",
     "text": [
      "Author: NavinKumarMNK\n",
      "\n",
      "Python implementation: CPython\n",
      "Python version       : 3.10.8\n",
      "IPython version      : 8.8.0\n",
      "\n",
      "torch: 1.13.1\n",
      "\n"
     ]
    }
   ],
   "source": [
    "#!pip3 install watermark\n",
    "%load_ext watermark\n",
    "%watermark -a 'NavinKumarMNK' -v -p torch"
   ]
  },
  {
   "cell_type": "code",
   "execution_count": null,
   "metadata": {},
   "outputs": [],
   "source": []
  }
 ],
 "metadata": {
  "kernelspec": {
   "display_name": "pytorch",
   "language": "python",
   "name": "python3"
  },
  "language_info": {
   "codemirror_mode": {
    "name": "ipython",
    "version": 3
   },
   "file_extension": ".py",
   "mimetype": "text/x-python",
   "name": "python",
   "nbconvert_exporter": "python",
   "pygments_lexer": "ipython3",
   "version": "3.10.8"
  },
  "orig_nbformat": 4,
  "vscode": {
   "interpreter": {
    "hash": "0ba23c83c4138bcb3217238b08fd7119c0f771276a6f985877eb1c54ac316832"
   }
  }
 },
 "nbformat": 4,
 "nbformat_minor": 2
}
